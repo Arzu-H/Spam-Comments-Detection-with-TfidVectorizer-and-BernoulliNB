{
 "cells": [
  {
   "cell_type": "markdown",
   "metadata": {},
   "source": [
    "# Spam Comments Detection\n",
    "\n",
    "The goal of this task is to classify comments as *Spam* or *Not Spam* using the **YouTube spam comments** dataset.\n",
    "\n",
    "\n",
    "## Table of Contents\n",
    "1. [Introduction and Dataset Overview](#intro)\n",
    "2. [Initial Data Exploration (EDA)](#eda)\n",
    "3. [Data Preparation for the Model](#preprocessing)\n",
    "4. [Model Building and Training](#model)\n",
    "5. [Result Evaluation and Testing](#test)\n",
    "6. [Additional Steps and Suggestions:](#conclusion)\n",
    "\n",
    "---\n",
    "### Dataset Information\n",
    "*You can use a dataset named `Youtube.csv` (or similar files)*\n",
    "- **CONTENT_az** column: Comment text.\n",
    "- **CLASS** column: Contains a value of 0 (Not Spam) or 1 (Spam).\n",
    "\n",
    "### Objective\n",
    " - Build a model that classifies the given comments as `Spam` or `Not Spam`.\n",
    "\n",
    "\n",
    "---"
   ]
  },
  {
   "cell_type": "markdown",
   "metadata": {
    "id": "intro"
   },
   "source": [
    "## 1. Introduction and Dataset Overview <a id=\"intro\"></a>\n"
   ]
  },
  {
   "cell_type": "code",
   "execution_count": 80,
   "id": "ce57807c",
   "metadata": {},
   "outputs": [],
   "source": [
    "import pandas as pd\n",
    "import seaborn as sns\n",
    "import matplotlib.pyplot as plt\n",
    "\n",
    "\n",
    "from sklearn.feature_extraction.text import TfidfVectorizer\n",
    "from sklearn.model_selection import train_test_split\n",
    "from sklearn.naive_bayes import BernoulliNB\n",
    "\n",
    "from sklearn.pipeline import Pipeline\n",
    "\n",
    "from sklearn.metrics import accuracy_score,classification_report"
   ]
  },
  {
   "cell_type": "code",
   "execution_count": 81,
   "metadata": {},
   "outputs": [
    {
     "data": {
      "text/html": [
       "<div>\n",
       "<style scoped>\n",
       "    .dataframe tbody tr th:only-of-type {\n",
       "        vertical-align: middle;\n",
       "    }\n",
       "\n",
       "    .dataframe tbody tr th {\n",
       "        vertical-align: top;\n",
       "    }\n",
       "\n",
       "    .dataframe thead th {\n",
       "        text-align: right;\n",
       "    }\n",
       "</style>\n",
       "<table border=\"1\" class=\"dataframe\">\n",
       "  <thead>\n",
       "    <tr style=\"text-align: right;\">\n",
       "      <th></th>\n",
       "      <th>COMMENT_ID</th>\n",
       "      <th>AUTHOR</th>\n",
       "      <th>DATE</th>\n",
       "      <th>CLASS</th>\n",
       "      <th>CONTENT_az</th>\n",
       "    </tr>\n",
       "  </thead>\n",
       "  <tbody>\n",
       "    <tr>\n",
       "      <th>0</th>\n",
       "      <td>LZQPQhLyRh80UYxNuaDWhIGQYNQ96IuCg-AYWqNPjpU</td>\n",
       "      <td>Julius NM</td>\n",
       "      <td>2013-11-07T06:20:48</td>\n",
       "      <td>1</td>\n",
       "      <td>Huh, hər halda bu youtube] kanalına baxın: kob...</td>\n",
       "    </tr>\n",
       "    <tr>\n",
       "      <th>1</th>\n",
       "      <td>LZQPQhLyRh_C2cTtd9MvFRJedxydaVW-2sNg5Diuo4A</td>\n",
       "      <td>adam riyati</td>\n",
       "      <td>2013-11-07T12:37:15</td>\n",
       "      <td>1</td>\n",
       "      <td>Salam uşaqlar mənim yeni kanalıma və ilk video...</td>\n",
       "    </tr>\n",
       "    <tr>\n",
       "      <th>2</th>\n",
       "      <td>LZQPQhLyRh9MSZYnf8djyk0gEF9BHDPYrrK-qCczIY8</td>\n",
       "      <td>Evgeny Murashkin</td>\n",
       "      <td>2013-11-08T17:34:21</td>\n",
       "      <td>1</td>\n",
       "      <td>sırf test üçün murdev.com deməliyəm</td>\n",
       "    </tr>\n",
       "    <tr>\n",
       "      <th>3</th>\n",
       "      <td>z13jhp0bxqncu512g22wvzkasxmvvzjaz04</td>\n",
       "      <td>ElNino Melendez</td>\n",
       "      <td>2013-11-09T08:28:43</td>\n",
       "      <td>1</td>\n",
       "      <td>kanalımda seksual götümü silkələyirəm ^_^ ﻿</td>\n",
       "    </tr>\n",
       "    <tr>\n",
       "      <th>4</th>\n",
       "      <td>z13fwbwp1oujthgqj04chlngpvzmtt3r3dw</td>\n",
       "      <td>GsMega</td>\n",
       "      <td>2013-11-10T16:05:38</td>\n",
       "      <td>1</td>\n",
       "      <td>watch?v=vtaRGgvGtWQ Bunu yoxlayın .﻿</td>\n",
       "    </tr>\n",
       "  </tbody>\n",
       "</table>\n",
       "</div>"
      ],
      "text/plain": [
       "                                    COMMENT_ID            AUTHOR  \\\n",
       "0  LZQPQhLyRh80UYxNuaDWhIGQYNQ96IuCg-AYWqNPjpU         Julius NM   \n",
       "1  LZQPQhLyRh_C2cTtd9MvFRJedxydaVW-2sNg5Diuo4A       adam riyati   \n",
       "2  LZQPQhLyRh9MSZYnf8djyk0gEF9BHDPYrrK-qCczIY8  Evgeny Murashkin   \n",
       "3          z13jhp0bxqncu512g22wvzkasxmvvzjaz04   ElNino Melendez   \n",
       "4          z13fwbwp1oujthgqj04chlngpvzmtt3r3dw            GsMega   \n",
       "\n",
       "                  DATE  CLASS  \\\n",
       "0  2013-11-07T06:20:48      1   \n",
       "1  2013-11-07T12:37:15      1   \n",
       "2  2013-11-08T17:34:21      1   \n",
       "3  2013-11-09T08:28:43      1   \n",
       "4  2013-11-10T16:05:38      1   \n",
       "\n",
       "                                          CONTENT_az  \n",
       "0  Huh, hər halda bu youtube] kanalına baxın: kob...  \n",
       "1  Salam uşaqlar mənim yeni kanalıma və ilk video...  \n",
       "2                sırf test üçün murdev.com deməliyəm  \n",
       "3        kanalımda seksual götümü silkələyirəm ^_^ ﻿  \n",
       "4               watch?v=vtaRGgvGtWQ Bunu yoxlayın .﻿  "
      ]
     },
     "execution_count": 81,
     "metadata": {},
     "output_type": "execute_result"
    }
   ],
   "source": [
    "\n",
    "\n",
    "\n",
    "df = pd.read_csv(\"Youtube.csv\")\n",
    "df.head()"
   ]
  },
  {
   "cell_type": "code",
   "execution_count": 82,
   "id": "f8e42041",
   "metadata": {},
   "outputs": [
    {
     "data": {
      "text/html": [
       "<div>\n",
       "<style scoped>\n",
       "    .dataframe tbody tr th:only-of-type {\n",
       "        vertical-align: middle;\n",
       "    }\n",
       "\n",
       "    .dataframe tbody tr th {\n",
       "        vertical-align: top;\n",
       "    }\n",
       "\n",
       "    .dataframe thead th {\n",
       "        text-align: right;\n",
       "    }\n",
       "</style>\n",
       "<table border=\"1\" class=\"dataframe\">\n",
       "  <thead>\n",
       "    <tr style=\"text-align: right;\">\n",
       "      <th></th>\n",
       "      <th>COMMENT_ID</th>\n",
       "      <th>AUTHOR</th>\n",
       "      <th>DATE</th>\n",
       "      <th>CLASS</th>\n",
       "      <th>CONTENT_az</th>\n",
       "    </tr>\n",
       "  </thead>\n",
       "  <tbody>\n",
       "    <tr>\n",
       "      <th>345</th>\n",
       "      <td>z13th1q4yzihf1bll23qxzpjeujterydj</td>\n",
       "      <td>Carmen Racasanu</td>\n",
       "      <td>2014-11-14T13:27:52</td>\n",
       "      <td>0</td>\n",
       "      <td>Planetdə yalnız mən olduğum halda bunun necə 2...</td>\n",
       "    </tr>\n",
       "    <tr>\n",
       "      <th>346</th>\n",
       "      <td>z13fcn1wfpb5e51xe04chdxakpzgchyaxzo0k</td>\n",
       "      <td>diego mogrovejo</td>\n",
       "      <td>2014-11-14T13:28:08</td>\n",
       "      <td>0</td>\n",
       "      <td>2014-cü ildə buna niyə baxdığımı indi bilmirəm</td>\n",
       "    </tr>\n",
       "    <tr>\n",
       "      <th>347</th>\n",
       "      <td>z130zd5b3titudkoe04ccbeohojxuzppvbg</td>\n",
       "      <td>BlueYetiPlayz -Call Of Duty and More</td>\n",
       "      <td>2015-05-23T13:04:32</td>\n",
       "      <td>1</td>\n",
       "      <td>Call of duty videoları və Hədəf-100 abunələri ...</td>\n",
       "    </tr>\n",
       "    <tr>\n",
       "      <th>348</th>\n",
       "      <td>z12he50arvrkivl5u04cctawgxzkjfsjcc4</td>\n",
       "      <td>Photo Editor</td>\n",
       "      <td>2015-06-05T14:14:48</td>\n",
       "      <td>1</td>\n",
       "      <td>salam uşaqlar zəhmət olmasa mənim android foto...</td>\n",
       "    </tr>\n",
       "    <tr>\n",
       "      <th>349</th>\n",
       "      <td>z13vhvu54u3ewpp5h04ccb4zuoardrmjlyk0k</td>\n",
       "      <td>Ray Benich</td>\n",
       "      <td>2015-06-05T18:05:16</td>\n",
       "      <td>0</td>\n",
       "      <td>İlk milyardlar bunun həqiqətən gözəl olduğunu ...</td>\n",
       "    </tr>\n",
       "  </tbody>\n",
       "</table>\n",
       "</div>"
      ],
      "text/plain": [
       "                                COMMENT_ID  \\\n",
       "345      z13th1q4yzihf1bll23qxzpjeujterydj   \n",
       "346  z13fcn1wfpb5e51xe04chdxakpzgchyaxzo0k   \n",
       "347    z130zd5b3titudkoe04ccbeohojxuzppvbg   \n",
       "348    z12he50arvrkivl5u04cctawgxzkjfsjcc4   \n",
       "349  z13vhvu54u3ewpp5h04ccb4zuoardrmjlyk0k   \n",
       "\n",
       "                                   AUTHOR                 DATE  CLASS  \\\n",
       "345                       Carmen Racasanu  2014-11-14T13:27:52      0   \n",
       "346                       diego mogrovejo  2014-11-14T13:28:08      0   \n",
       "347  BlueYetiPlayz -Call Of Duty and More  2015-05-23T13:04:32      1   \n",
       "348                          Photo Editor  2015-06-05T14:14:48      1   \n",
       "349                            Ray Benich  2015-06-05T18:05:16      0   \n",
       "\n",
       "                                            CONTENT_az  \n",
       "345  Planetdə yalnız mən olduğum halda bunun necə 2...  \n",
       "346     2014-cü ildə buna niyə baxdığımı indi bilmirəm  \n",
       "347  Call of duty videoları və Hədəf-100 abunələri ...  \n",
       "348  salam uşaqlar zəhmət olmasa mənim android foto...  \n",
       "349  İlk milyardlar bunun həqiqətən gözəl olduğunu ...  "
      ]
     },
     "execution_count": 82,
     "metadata": {},
     "output_type": "execute_result"
    }
   ],
   "source": [
    "df.tail()"
   ]
  },
  {
   "cell_type": "code",
   "execution_count": 83,
   "id": "a47de3f4",
   "metadata": {},
   "outputs": [
    {
     "name": "stdout",
     "output_type": "stream",
     "text": [
      "<class 'pandas.core.frame.DataFrame'>\n",
      "RangeIndex: 350 entries, 0 to 349\n",
      "Data columns (total 5 columns):\n",
      " #   Column      Non-Null Count  Dtype \n",
      "---  ------      --------------  ----- \n",
      " 0   COMMENT_ID  350 non-null    object\n",
      " 1   AUTHOR      350 non-null    object\n",
      " 2   DATE        350 non-null    object\n",
      " 3   CLASS       350 non-null    int64 \n",
      " 4   CONTENT_az  350 non-null    object\n",
      "dtypes: int64(1), object(4)\n",
      "memory usage: 13.8+ KB\n"
     ]
    }
   ],
   "source": [
    "df.info()"
   ]
  },
  {
   "cell_type": "code",
   "execution_count": 84,
   "id": "b6db1cc3",
   "metadata": {},
   "outputs": [
    {
     "data": {
      "text/html": [
       "<div>\n",
       "<style scoped>\n",
       "    .dataframe tbody tr th:only-of-type {\n",
       "        vertical-align: middle;\n",
       "    }\n",
       "\n",
       "    .dataframe tbody tr th {\n",
       "        vertical-align: top;\n",
       "    }\n",
       "\n",
       "    .dataframe thead th {\n",
       "        text-align: right;\n",
       "    }\n",
       "</style>\n",
       "<table border=\"1\" class=\"dataframe\">\n",
       "  <thead>\n",
       "    <tr style=\"text-align: right;\">\n",
       "      <th></th>\n",
       "      <th>COMMENT_ID</th>\n",
       "      <th>AUTHOR</th>\n",
       "      <th>DATE</th>\n",
       "      <th>CONTENT_az</th>\n",
       "    </tr>\n",
       "  </thead>\n",
       "  <tbody>\n",
       "    <tr>\n",
       "      <th>count</th>\n",
       "      <td>350</td>\n",
       "      <td>350</td>\n",
       "      <td>350</td>\n",
       "      <td>350</td>\n",
       "    </tr>\n",
       "    <tr>\n",
       "      <th>unique</th>\n",
       "      <td>350</td>\n",
       "      <td>345</td>\n",
       "      <td>350</td>\n",
       "      <td>349</td>\n",
       "    </tr>\n",
       "    <tr>\n",
       "      <th>top</th>\n",
       "      <td>z13vhvu54u3ewpp5h04ccb4zuoardrmjlyk0k</td>\n",
       "      <td>Young IncoVEVO</td>\n",
       "      <td>2015-06-05T18:05:16</td>\n",
       "      <td>PSY - GANGNAM STYLE (Gangnam Style) M/V: http:...</td>\n",
       "    </tr>\n",
       "    <tr>\n",
       "      <th>freq</th>\n",
       "      <td>1</td>\n",
       "      <td>2</td>\n",
       "      <td>1</td>\n",
       "      <td>2</td>\n",
       "    </tr>\n",
       "  </tbody>\n",
       "</table>\n",
       "</div>"
      ],
      "text/plain": [
       "                                   COMMENT_ID          AUTHOR  \\\n",
       "count                                     350             350   \n",
       "unique                                    350             345   \n",
       "top     z13vhvu54u3ewpp5h04ccb4zuoardrmjlyk0k  Young IncoVEVO   \n",
       "freq                                        1               2   \n",
       "\n",
       "                       DATE                                         CONTENT_az  \n",
       "count                   350                                                350  \n",
       "unique                  350                                                349  \n",
       "top     2015-06-05T18:05:16  PSY - GANGNAM STYLE (Gangnam Style) M/V: http:...  \n",
       "freq                      1                                                  2  "
      ]
     },
     "execution_count": 84,
     "metadata": {},
     "output_type": "execute_result"
    }
   ],
   "source": [
    "df.describe(include=object)"
   ]
  },
  {
   "cell_type": "markdown",
   "metadata": {
    "id": "eda"
   },
   "source": [
    "## 2. Initial Data Exploration (EDA) <a id=\"eda\"></a>\n"
   ]
  },
  {
   "cell_type": "code",
   "execution_count": 85,
   "metadata": {},
   "outputs": [
    {
     "data": {
      "text/plain": [
       "COMMENT_ID    0\n",
       "AUTHOR        0\n",
       "DATE          0\n",
       "CLASS         0\n",
       "CONTENT_az    0\n",
       "dtype: int64"
      ]
     },
     "execution_count": 85,
     "metadata": {},
     "output_type": "execute_result"
    }
   ],
   "source": [
    "df.isnull().sum()\n"
   ]
  },
  {
   "cell_type": "code",
   "execution_count": 86,
   "id": "f30bd4a1",
   "metadata": {},
   "outputs": [
    {
     "data": {
      "text/plain": [
       "np.float64(87.87428571428572)"
      ]
     },
     "execution_count": 86,
     "metadata": {},
     "output_type": "execute_result"
    }
   ],
   "source": [
    "gen_average_length = df['CONTENT_az'].str.len().mean()\n",
    "\n",
    "gen_average_length"
   ]
  },
  {
   "cell_type": "code",
   "execution_count": 87,
   "id": "2082fd96",
   "metadata": {},
   "outputs": [
    {
     "data": {
      "text/plain": [
       "np.float64(107.35428571428571)"
      ]
     },
     "execution_count": 87,
     "metadata": {},
     "output_type": "execute_result"
    }
   ],
   "source": [
    "spam_average_length = df[df['CLASS']==1]['CONTENT_az'].str.len().mean()\n",
    "\n",
    "spam_average_length"
   ]
  },
  {
   "cell_type": "code",
   "execution_count": 88,
   "id": "aaaab37e",
   "metadata": {},
   "outputs": [
    {
     "data": {
      "text/plain": [
       "np.float64(68.39428571428572)"
      ]
     },
     "execution_count": 88,
     "metadata": {},
     "output_type": "execute_result"
    }
   ],
   "source": [
    "non_spam_av_length = df[df['CLASS']==0]['CONTENT_az'].str.len().mean()\n",
    "\n",
    "non_spam_av_length"
   ]
  },
  {
   "cell_type": "code",
   "execution_count": 89,
   "id": "45bfdbac",
   "metadata": {},
   "outputs": [
    {
     "data": {
      "text/plain": [
       "(0.0, 400.0)"
      ]
     },
     "execution_count": 89,
     "metadata": {},
     "output_type": "execute_result"
    },
    {
     "data": {
      "image/png": "[encoded data removed]",
      "text/plain": [
       "<Figure size 640x480 with 1 Axes>"
      ]
     },
     "metadata": {},
     "output_type": "display_data"
    }
   ],
   "source": [
    "sns.boxplot(x = df['CLASS'], y =df['CONTENT_az'].str.len(), color='rebeccapurple', showmeans=True )\n",
    "\n",
    "sns.set_theme(style='darkgrid')\n",
    "\n",
    "plt.xlabel(xlabel= 'Class', labelpad= 20)\n",
    "plt.ylabel(ylabel= 'Content Length', labelpad= 20)\n",
    "\n",
    "plt.xticks (ticks=[0, 1],labels=['Not Spam', 'Spam'])\n",
    "\n",
    "plt.title('The Comparison of Regular and Spam Comments Lengths', pad= 20)\n",
    "\n",
    "plt.ylim(0, 400)\n"
   ]
  },
  {
   "cell_type": "code",
   "execution_count": 90,
   "id": "a79b2ceb",
   "metadata": {},
   "outputs": [
    {
     "data": {
      "image/png": "[encoded data removed]",
      "text/plain": [
       "<Figure size 640x480 with 1 Axes>"
      ]
     },
     "metadata": {},
     "output_type": "display_data"
    }
   ],
   "source": [
    "sns.countplot(x = df['CLASS'], color='midnightblue' )\n",
    "plt.xticks(ticks=[0, 1], labels=['Not Spam', 'Spam'])\n",
    "plt.xlabel(\"Class\")\n",
    "plt.ylabel(\"Count\")\n",
    "plt.title(\"Number of Spam and Non-Spam Comments\")\n",
    "plt.show()"
   ]
  },
  {
   "cell_type": "markdown",
   "metadata": {
    "id": "preprocessing"
   },
   "source": [
    "## 3. Data Preparation for the Model <a id=\"preprocessing\"></a>\n"
   ]
  },
  {
   "cell_type": "code",
   "execution_count": null,
   "id": "445a4d03",
   "metadata": {},
   "outputs": [],
   "source": [
    "X = df['CONTENT_az']\n",
    "y = df['CLASS']\n",
    "\n",
    "\n",
    "X_train, X_test, y_train, y_test = train_test_split(X, y, test_size=0.3, random_state= 42)"
   ]
  },
  {
   "cell_type": "markdown",
   "metadata": {
    "id": "model"
   },
   "source": [
    "## 4. Model Building and Training <a id=\"model\"></a>\n"
   ]
  },
  {
   "cell_type": "code",
   "execution_count": 93,
   "metadata": {},
   "outputs": [
    {
     "name": "stdout",
     "output_type": "stream",
     "text": [
      "              precision    recall  f1-score   support\n",
      "\n",
      "           0       0.91      1.00      0.95       127\n",
      "           1       1.00      0.90      0.95       118\n",
      "\n",
      "    accuracy                           0.95       245\n",
      "   macro avg       0.96      0.95      0.95       245\n",
      "weighted avg       0.96      0.95      0.95       245\n",
      "\n",
      "              precision    recall  f1-score   support\n",
      "\n",
      "           0       0.89      1.00      0.94        48\n",
      "           1       1.00      0.89      0.94        57\n",
      "\n",
      "    accuracy                           0.94       105\n",
      "   macro avg       0.94      0.95      0.94       105\n",
      "weighted avg       0.95      0.94      0.94       105\n",
      "\n"
     ]
    }
   ],
   "source": [
    "\n",
    "pipeline = Pipeline([\n",
    "    ('tfidf', TfidfVectorizer(stop_words='english', max_features=500)),\n",
    "    ('classifier', BernoulliNB())\n",
    "])\n",
    "\n",
    "\n",
    "pipeline.fit(X_train, y_train)\n",
    "\n",
    "\n",
    "train_pred = pipeline.predict(X_train)\n",
    "\n",
    "y_pred = pipeline.predict(X_test)\n",
    "\n",
    "\n",
    "report1 = classification_report(y_train, train_pred)\n",
    "report = classification_report(y_test, y_pred)\n",
    "print(report1)\n",
    "\n",
    "print(report)"
   ]
  },
  {
   "cell_type": "markdown",
   "metadata": {
    "id": "test"
   },
   "source": [
    "## 5. Result Evaluation and Testing <a id=\"test\"></a>\n"
   ]
  },
  {
   "cell_type": "code",
   "execution_count": 94,
   "metadata": {},
   "outputs": [
    {
     "data": {
      "text/plain": [
       "array([1, 0, 0])"
      ]
     },
     "execution_count": 94,
     "metadata": {},
     "output_type": "execute_result"
    }
   ],
   "source": [
    "\n",
    "sample = [\n",
    "    \"Check this out: https://thecleverprogrammer.com/\",\n",
    "    \"Lack of information!\",\n",
    "    \"I don't like this content\"\n",
    "]\n",
    "\n",
    "predictions = pipeline.predict(sample)\n",
    "\n",
    "\n",
    "predictions"
   ]
  },
  {
   "cell_type": "markdown",
   "metadata": {
    "id": "conclusion"
   },
   "source": [
    "## 6. Additional Steps and Suggestions: <a id=\"conclusion\"></a>\n",
    ">\n",
    "> - Consider comparing different machine learning models for better performance, such as Support Vector Machines (SVM), Logistic Regression, and XGBoost.\n",
    "> - Explore hyperparameter tuning using GridSearchCV or RandomizedSearchCV to optimize model parameters for improved accuracy.\n",
    "> - Enhance the dataset by extracting additional features from the comments, such as sentiment analysis scores, keyword counts, or part-of-speech tagging, to help improve classification.\n",
    "\n",
    "\n",
    "\n"
   ]
  }
 ],
 "metadata": {
  "kernelspec": {
   "display_name": "Python 3",
   "language": "python",
   "name": "python3"
  },
  "language_info": {
   "codemirror_mode": {
    "name": "ipython",
    "version": 3
   },
   "file_extension": ".py",
   "mimetype": "text/x-python",
   "name": "python",
   "nbconvert_exporter": "python",
   "pygments_lexer": "ipython3",
   "version": "3.10.0"
  }
 },
 "nbformat": 4,
 "nbformat_minor": 5
}
